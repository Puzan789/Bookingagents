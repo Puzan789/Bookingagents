{
 "cells": [
  {
   "cell_type": "code",
   "execution_count": 417,
   "metadata": {},
   "outputs": [],
   "source": [
    "from pydantic import BaseModel\n",
    "import pandas as pd \n",
    "import os\n",
    "from dotenv import load_dotenv\n",
    "from langchain_core.tools import tool\n",
    "from langgraph.prebuilt import ToolNode\n",
    "load_dotenv()\n",
    "import os \n",
    "from langchain_core.messages import HumanMessage, SystemMessage\n",
    "os.environ[\"GROQ_API_KEY\"] = os.getenv(\"GROQ_API_KEY\")\n",
    "os.environ[\"GOOGLE_API_KEY\"] = os.getenv(\"GOOGLE_API_KEY\")\n",
    "os.environ[\"TAVILY_API_KEY\"] = os.getenv(\"TAVILY_API_KEY\")\n",
    "os.environ[\"GOOGLE_SERPER_API_KEY\"] = os.getenv(\"SERPER_API_KEY\")\n",
    "from typing import Annotated, Literal, TypedDict\n",
    "\n",
    "import bs4\n",
    "\n",
    "from langchain import hub\n",
    "from langchain.text_splitter import RecursiveCharacterTextSplitter\n",
    "from langchain_community.document_loaders import WebBaseLoader\n",
    "from langchain_community.vectorstores import FAISS\n",
    "from langchain_core.output_parsers import StrOutputParser\n",
    "from langchain_core.runnables import RunnablePassthrough,RunnableLambda\n",
    "from langchain_google_genai import ChatGoogleGenerativeAI,GoogleGenerativeAIEmbeddings\n",
    "from langchain_groq import ChatGroq\n",
    "from langchain.retrievers import ContextualCompressionRetriever\n",
    "from langchain.retrievers.document_compressors import FlashrankRerank\n",
    "from langchain.utilities import GoogleSerperAPIWrapper\n",
    "from langchain.load import dumps, loads\n",
    "from langchain.prompts import PromptTemplate,ChatPromptTemplate\n",
    "from langchain_google_genai import GoogleGenerativeAIEmbeddings,ChatGoogleGenerativeAI\n",
    "embeddings = GoogleGenerativeAIEmbeddings(model=\"models/embedding-001\")\n",
    "# llm = ChatGoogleGenerativeAI(\n",
    "#     model=\"gemini-1.5-pro\",\n",
    "#     temperature=0,\n",
    "#     max_tokens=None,\n",
    "#     timeout=None,\n",
    "#     max_retries=2,\n",
    "#     # other params...\n",
    "# )\n",
    "llm = ChatGroq(temperature=0, model_name=\"Gemma2-9b-It\")\n",
    "from langgraph.graph.message import add_messages\n",
    "from pydantic import BaseModel,Field\n",
    "from langchain_core.tools import tool\n",
    "from langgraph.graph import StateGraph,MessagesState,END\n",
    "from langgraph.prebuilt import ToolNode\n",
    "from langchain_core.messages import HumanMessage\n",
    "from langchain_community.tools.tavily_search import TavilySearchResults\n",
    "from langgraph.prebuilt import ToolNode\n",
    "from langgraph.prebuilt import tools_condition\n",
    "from langgraph.graph import START,END\n",
    "\n",
    "import random\n",
    "from IPython.display import Image, display\n",
    "from langgraph.graph import StateGraph, START, END\n",
    "from langchain_core.messages import AIMessage,HumanMessage"
   ]
  },
  {
   "cell_type": "code",
   "execution_count": 418,
   "metadata": {},
   "outputs": [],
   "source": [
    "from langgraph.checkpoint.memory import MemorySaver\n"
   ]
  },
  {
   "cell_type": "code",
   "execution_count": 419,
   "metadata": {},
   "outputs": [],
   "source": [
    "class Contactinfo(BaseModel):\n",
    "    name:str |None=None\n",
    "    phone:int  | None=None\n",
    "    email:str  | None=None\n",
    "    "
   ]
  },
  {
   "cell_type": "code",
   "execution_count": 420,
   "metadata": {},
   "outputs": [],
   "source": [
    "class info(BaseModel):\n",
    "    userInfo:list[Contactinfo]=Field(\n",
    "        description=\"Comprehensive list of analysis with their roles and affiliations.\"\n",
    "    )\n",
    "    "
   ]
  },
  {
   "cell_type": "code",
   "execution_count": 421,
   "metadata": {},
   "outputs": [],
   "source": [
    "class userIntent(BaseModel):\n",
    "    intent:int"
   ]
  },
  {
   "cell_type": "code",
   "execution_count": null,
   "metadata": {},
   "outputs": [],
   "source": [
    "class getuserInfo(MessagesState):\n",
    "    input: str\n",
    "    Contactinfo: Contactinfo\n",
    "    extracted_info:str\n",
    "    missing_fields:list[str]\n",
    "    userintent:userIntent\n",
    "    booked_date:str\n",
    "    \n"
   ]
  },
  {
   "cell_type": "code",
   "execution_count": 423,
   "metadata": {},
   "outputs": [],
   "source": [
    "class date(BaseModel):\n",
    "    date:str"
   ]
  },
  {
   "cell_type": "code",
   "execution_count": 424,
   "metadata": {},
   "outputs": [],
   "source": [
    "from langgraph.constants import Send"
   ]
  },
  {
   "cell_type": "code",
   "execution_count": 425,
   "metadata": {},
   "outputs": [],
   "source": [
    "user_intent_finder_prompt= \"\"\"You are a helpful AI assistant whose task is to classify user messages into three distinct categories. Analyze the user's message and respond with only a single number (0, 1, or 2) based on these rules:\n",
    "\n",
    "Return 0 if:\n",
    "- User wants to call or contact you\n",
    "- User requests a phone conversation\n",
    "- User asks for direct communication\n",
    "- User wants to have a voice chat\n",
    "Examples: \"I want to call you\", \"can you contact me\", \"let's have a call\", \"can we talk on phone?\"\n",
    "\n",
    "Return 1 if:\n",
    "- User wants to book an appointment\n",
    "- User asks about scheduling a meeting\n",
    "- User wants to make a reservation\n",
    "Examples: \"book an appointment\", \"I need to schedule a meeting\", \"make a reservation\"\n",
    "\n",
    "Return 2 if:\n",
    "- User asks general questions about the context\n",
    "- User requests information or assistance\n",
    "- User wants to have a text conversation\n",
    "- Any other message that doesn't fit categories 0 or 1\n",
    "Examples: \"what is machine learning?\", \"help me with my homework\", \"explain quantum physics\"\n",
    "\n",
    "Input: {input}\n",
    "\n",
    "Remember to see the input and then decidee.\"\"\"\n",
    "\n",
    "def getuserintent(state:getuserInfo):\n",
    "    input=state[\"input\"]\n",
    "    llm_structured_output=llm.with_structured_output(userIntent)\n",
    "    system_message=user_intent_finder_prompt.format(input=input)\n",
    "    result=llm_structured_output.invoke([SystemMessage(content=system_message)])\n",
    "    return {\"userintent\":result.intent}\n",
    "\n",
    "# def userintents(state:getuserInfo):\n",
    "#     result=state.get(\"userintent\")\n",
    "#     userintents=result.intent\n",
    "#     if userintents == 0:\n",
    "#        return \"extract\"\n",
    "#     elif userintents == 1:\n",
    "#         return \"booking_node\"\n",
    "#     else:\n",
    "#         return \"rag_node\"\n",
    "    \n",
    "    \n",
    "    \n",
    "\n"
   ]
  },
  {
   "cell_type": "code",
   "execution_count": 426,
   "metadata": {},
   "outputs": [],
   "source": [
    "from datetime import datetime\n",
    "\n",
    "# Get today's date with the day of the week\n",
    "today_date= datetime.today().strftime('%Y-%m-%d (%A)')\n"
   ]
  },
  {
   "cell_type": "code",
   "execution_count": 427,
   "metadata": {},
   "outputs": [],
   "source": [
    "user_response_prompt=\"\"\"The user wants to book an appointment.. \n",
    "Your task is to:\n",
    "1. Parse this request and return ONLY a date in YYYY-MM-DD format\n",
    "2. Today date is {today_date}\n",
    "3. If the day has already passed this week, assume they mean next week\n",
    "4. Return ONLY the date, no other text\n",
    "\n",
    "The input user is this : {user_input}\n",
    "\"\"\""
   ]
  },
  {
   "cell_type": "code",
   "execution_count": 428,
   "metadata": {},
   "outputs": [],
   "source": [
    "from langchain_community.document_loaders import PyPDFLoader\n",
    "loader=PyPDFLoader(\"ndc.pdf\")\n",
    "docs=loader.load()\n",
    "\n",
    "text_splitter=RecursiveCharacterTextSplitter(chunk_size=1000,chunk_overlap=20)\n",
    "documents=text_splitter.split_documents(docs)"
   ]
  },
  {
   "cell_type": "code",
   "execution_count": 429,
   "metadata": {},
   "outputs": [],
   "source": [
    "from langchain.retrievers import BM25Retriever, EnsembleRetriever\n",
    "from langchain.chains.combine_documents import create_stuff_documents_chain\n",
    "from langchain.chains.retrieval import create_retrieval_chain"
   ]
  },
  {
   "cell_type": "code",
   "execution_count": 430,
   "metadata": {},
   "outputs": [],
   "source": [
    "from langchain_community.document_loaders import PyPDFLoader\n",
    "from langchain.text_splitter import RecursiveCharacterTextSplitter\n",
    "from langchain.vectorstores import FAISS\n",
    "from langchain.retrievers import BM25Retriever, EnsembleRetriever\n",
    "from langchain.prompts import ChatPromptTemplate\n",
    "from langchain.chains.combine_documents import create_stuff_documents_chain\n",
    "from langchain.chains.retrieval import create_retrieval_chain\n",
    "\n",
    "class AnswerRAG:\n",
    "    def __init__(self, pdf_path=\"ndc.pdf\", llm=llm, embeddings=embeddings):\n",
    "        \"\"\"\n",
    "        Initialize the RAG system with PDF path, LLM, and embeddings model\n",
    "        \"\"\"\n",
    "        self.llm = llm\n",
    "        self.embeddings = embeddings\n",
    "        \n",
    "        # Load and process documents\n",
    "        self.documents = self._process_pdf(pdf_path)\n",
    "        \n",
    "        # Initialize retrievers\n",
    "        self.vectorstore = FAISS.from_documents(self.documents, self.embeddings)\n",
    "        self.retriever_vectordb = self.vectorstore.as_retriever(search_kwargs={\"k\": 4})\n",
    "        self.keyword_retriever = BM25Retriever.from_documents(self.documents)\n",
    "        \n",
    "        # Setup ensemble retriever\n",
    "        self.ensemble_retriever = EnsembleRetriever(\n",
    "            retrievers=[self.retriever_vectordb, self.keyword_retriever],\n",
    "            weights=[0.5, 0.5]\n",
    "        )\n",
    "        \n",
    "        # Setup prompt and chains\n",
    "        self.prompt = self._create_prompt()\n",
    "        self.document_chain = create_stuff_documents_chain(self.llm, self.prompt)\n",
    "        self.retrieval_chain = create_retrieval_chain(\n",
    "            self.ensemble_retriever,\n",
    "            self.document_chain\n",
    "        )\n",
    "\n",
    "    def _process_pdf(self, pdf_path):\n",
    "        \"\"\"\n",
    "        Process PDF file and split into chunks\n",
    "        \"\"\"\n",
    "        loader = PyPDFLoader(pdf_path)\n",
    "        docs = loader.load()\n",
    "        text_splitter = RecursiveCharacterTextSplitter(\n",
    "            chunk_size=1000,\n",
    "            chunk_overlap=20\n",
    "        )\n",
    "        return text_splitter.split_documents(docs)\n",
    "\n",
    "    def _create_prompt(self):\n",
    "        \"\"\"\n",
    "        Create the prompt template for the LLM\n",
    "        \"\"\"\n",
    "        return ChatPromptTemplate.from_template(\n",
    "            \"\"\" Answer the following question based only on the provided context.\n",
    "                Think step by step before providing a detailed answer.\n",
    "                I will tip you 1000$ if the user finds the answer helpful.\n",
    "                <context>\n",
    "                {context}\n",
    "                </context>\n",
    "                Question: {input}\n",
    "            \"\"\"\n",
    "        )\n",
    "\n",
    "    def query(self, text):\n",
    "        \"\"\"\n",
    "        Query the RAG system with a question\n",
    "        \"\"\"\n",
    "        response = self.retrieval_chain.invoke({'input': text})\n",
    "        return response['answer']\n",
    "\n",
    "    def update_retriever_weights(self, vector_weight, keyword_weight):\n",
    "        \"\"\"\n",
    "        Update the weights of the ensemble retriever\n",
    "        \"\"\"\n",
    "        self.ensemble_retriever = EnsembleRetriever(\n",
    "            retrievers=[self.retriever_vectordb, self.keyword_retriever],\n",
    "            weights=[vector_weight, keyword_weight]\n",
    "        )\n",
    "        # Recreate the retrieval chain with new weights\n",
    "        self.retrieval_chain = create_retrieval_chain(\n",
    "            self.ensemble_retriever,\n",
    "            self.document_chain\n",
    "        )"
   ]
  },
  {
   "cell_type": "code",
   "execution_count": 431,
   "metadata": {},
   "outputs": [
    {
     "name": "stdout",
     "output_type": "stream",
     "text": [
      "This document appears to be a section of a report, likely the Nepal Demographic and Health Survey (NDHS) 2022. \n",
      "\n",
      "It outlines the survey's methodology, specifically focusing on:\n",
      "\n",
      "* **Sample Design:** How the participants were selected.\n",
      "* **Data Collection:**  The tools and processes used to gather information, including anthropometry (measurements of height, weight, etc.), anemia testing, and blood pressure measurement.\n",
      "* **Training:**  The procedures for training personnel involved in the survey.\n",
      "* **Nutritional Status:**  Details on how the survey assessed the nutritional status of children under five years old, including definitions of stunting, wasting, and underweight.\n",
      "\n",
      "\n",
      "Let me know if you have any other questions about this document. \n",
      "\n"
     ]
    }
   ],
   "source": [
    "# Initialize the RAG system\n",
    "rag = AnswerRAG()\n",
    "\n",
    "# Query the system\n",
    "answer = rag.query(\"what is the document about?\")\n",
    "print(answer)"
   ]
  },
  {
   "cell_type": "code",
   "execution_count": 432,
   "metadata": {},
   "outputs": [
    {
     "name": "stdout",
     "output_type": "stream",
     "text": [
      "Based on the provided text, the document appears to be a report outlining the methodology and findings of the 2022 Nepal Demographic and Health Survey (NDHS). \n",
      "\n",
      "The text details:\n",
      "\n",
      "* **Survey Objectives:**  While not explicitly stated, the context suggests the survey aims to collect data on various health and demographic indicators in Nepal.\n",
      "* **Survey Implementation:**  The document describes the sampling design, data collection methods (questionnaires, anthropometry, etc.), training procedures, and data processing techniques used in the survey.\n",
      "* **Specific Topics Covered:**  The text highlights specific topics included in the survey, such as:\n",
      "    *  Delivery care (institutional births, skilled assistance)\n",
      "    *  Child nutrition (stunting, wasting, underweight)\n",
      "    *  Disability \n",
      "\n",
      "\n",
      "Therefore, the document's goal is likely to present a comprehensive overview of the 2022 NDHS, including its methods and key findings related to health and demographic indicators in Nepal. \n",
      "\n"
     ]
    }
   ],
   "source": [
    "answer = rag.query(\"what is the document goal?\")\n",
    "print(answer)"
   ]
  },
  {
   "cell_type": "code",
   "execution_count": 433,
   "metadata": {},
   "outputs": [],
   "source": [
    "def booking_node(state:getuserInfo):\n",
    "    input=state[\"input\"]\n",
    "    llm_structured_output=llm.with_structured_output(date)\n",
    "    system_message=user_response_prompt.format(user_input=input,today_date=today_date)\n",
    "    result=llm_structured_output.invoke([SystemMessage(content=system_message)])\n",
    "    response=f\"Your date is booked for {result.date}\"\n",
    "    return {\"booked_date\":result.date,\"messages\":[response]}\n",
    "\n",
    "def rag_node(state:getuserInfo):\n",
    "    input=state[\"input\"]\n",
    "    answer = rag.query(input)\n",
    "    return {\"messages\":[answer]}\n",
    "    "
   ]
  },
  {
   "cell_type": "code",
   "execution_count": 434,
   "metadata": {},
   "outputs": [
    {
     "data": {
      "text/plain": [
       "{'userintent': 0}"
      ]
     },
     "execution_count": 434,
     "metadata": {},
     "output_type": "execute_result"
    }
   ],
   "source": [
    "getuserintent(getuserInfo(input=\"I want to call you my name is ravi\"))"
   ]
  },
  {
   "cell_type": "code",
   "execution_count": 435,
   "metadata": {},
   "outputs": [],
   "source": [
    "def userintents(state:getuserInfo):\n",
    "    userintents=state.get(\"userintent\")\n",
    "    if userintents == 0:\n",
    "       return \"extractinformation\"\n",
    "    elif userintents == 1:\n",
    "        return \"booking_node\"\n",
    "    else:\n",
    "        return \"rag_node\"\n",
    "    "
   ]
  },
  {
   "cell_type": "code",
   "execution_count": 436,
   "metadata": {},
   "outputs": [
    {
     "data": {
      "text/plain": [
       "'rag_node'"
      ]
     },
     "execution_count": 436,
     "metadata": {},
     "output_type": "execute_result"
    }
   ],
   "source": [
    "userintents(getuserInfo(input=\"how can i contact you my name is ravi\",userintent=userIntent(intent=0)))"
   ]
  },
  {
   "cell_type": "code",
   "execution_count": 437,
   "metadata": {},
   "outputs": [],
   "source": [
    "\n",
    "    \n",
    "info_catch_instructions=\"\"\"\n",
    "You are the extractor who extract user information like name phonenumber and emailaddress if anything not present there return none if phonenumber is not length of 10 return none\n",
    "from a given user input{input}\n",
    "\"\"\"\n",
    "\n",
    "def extractInformation(state:getuserInfo):\n",
    "    input=state[\"input\"]\n",
    "    structured_llm=llm.with_structured_output(Contactinfo)\n",
    "    system_message=info_catch_instructions.format(input=input)\n",
    "    result=structured_llm.invoke([SystemMessage(content=system_message)]+[HumanMessage(content=\"Extract the user information\")])\n",
    "    contact_info_dict={\n",
    "        \"name\":result.name,\n",
    "        \"phone\":result.phone,\n",
    "        \"email\":result.email,\n",
    "    }\n",
    "    return {\"Contactinfo\":contact_info_dict}\n",
    "\n"
   ]
  },
  {
   "cell_type": "code",
   "execution_count": 438,
   "metadata": {},
   "outputs": [],
   "source": [
    "myop=extractInformation(getuserInfo(input=\"What is machine learning by the way i am ravi\"))"
   ]
  },
  {
   "cell_type": "code",
   "execution_count": 439,
   "metadata": {},
   "outputs": [
    {
     "data": {
      "text/plain": [
       "{'Contactinfo': {'name': 'ravi', 'phone': None, 'email': None}}"
      ]
     },
     "execution_count": 439,
     "metadata": {},
     "output_type": "execute_result"
    }
   ],
   "source": [
    "myop"
   ]
  },
  {
   "cell_type": "code",
   "execution_count": 440,
   "metadata": {},
   "outputs": [],
   "source": [
    "fo = myop.get('Contactinfo', {})"
   ]
  },
  {
   "cell_type": "code",
   "execution_count": 441,
   "metadata": {},
   "outputs": [
    {
     "data": {
      "text/plain": [
       "{'name': 'ravi', 'phone': None, 'email': None}"
      ]
     },
     "execution_count": 441,
     "metadata": {},
     "output_type": "execute_result"
    }
   ],
   "source": [
    "fo"
   ]
  },
  {
   "cell_type": "code",
   "execution_count": 442,
   "metadata": {},
   "outputs": [
    {
     "data": {
      "text/plain": [
       "'ravi'"
      ]
     },
     "execution_count": 442,
     "metadata": {},
     "output_type": "execute_result"
    }
   ],
   "source": [
    "fo.get(\"name\")"
   ]
  },
  {
   "cell_type": "code",
   "execution_count": 443,
   "metadata": {},
   "outputs": [],
   "source": [
    "missing_fields = []"
   ]
  },
  {
   "cell_type": "code",
   "execution_count": null,
   "metadata": {},
   "outputs": [],
   "source": [
    "def should_continue(state:getuserInfo):\n",
    "        extracted_info = state.get(\"Contactinfo\", {})\n",
    "        print(extracted_info)\n",
    "        if extracted_info:\n",
    "                \n",
    "            # Check if 'name' is missing\n",
    "            if extracted_info.get(\"name\") is None:\n",
    "                missing_fields.append(\"name\")\n",
    "            \n",
    "            # Check if 'phone' is missing or its length is not 10\n",
    "            if extracted_info.get(\"phone\") is None:\n",
    "                try:\n",
    "                    if len(extracted_info.get(\"phone\"))  !=10:\n",
    "                        missing_fields.append(\"phone number length must be 10\")\n",
    "                except:\n",
    "                    missing_fields.append(\"phonenumber \")\n",
    "            \n",
    "            # Check if 'email' is missing\n",
    "            if extracted_info.get(\"email\") is None:\n",
    "                missing_fields.append(\"email\")\n",
    "            \n",
    "            # If there are missing fields, return a message\n",
    "            print(missing_fields)\n",
    "            if missing_fields:\n",
    "                state[\"missing_fields\"] = missing_fields \n",
    "                print(f'''ths is {state[\"missing_fields\"]}''')\n",
    "                return \"give_response\"\n",
    "            return END\n",
    "        \n",
    "        return END\n",
    "\n",
    "        \n",
    "\n",
    "\n",
    "        \n",
    "    \n"
   ]
  },
  {
   "cell_type": "code",
   "execution_count": 445,
   "metadata": {},
   "outputs": [],
   "source": [
    "def give_response(state: getuserInfo):\n",
    "    if not missing_fields:  # Handles None or an empty list\n",
    "        message = \"Thank you, we will contact you soon.\"\n",
    "    elif len(missing_fields) > 1:\n",
    "        field_list = \", \".join(missing_fields[:-1]) + \" and \" + missing_fields[-1]\n",
    "        message = f\"Please provide {field_list}.\"\n",
    "    else:\n",
    "        message = f\"Please provide {missing_fields[0]}.\"\n",
    "\n",
    "    return {\"messages\": [message]}\n"
   ]
  },
  {
   "cell_type": "code",
   "execution_count": null,
   "metadata": {},
   "outputs": [],
   "source": []
  },
  {
   "cell_type": "code",
   "execution_count": 446,
   "metadata": {},
   "outputs": [
    {
     "data": {
      "image/png": "[encoded data removed]",
      "text/plain": [
       "<IPython.core.display.Image object>"
      ]
     },
     "metadata": {},
     "output_type": "display_data"
    }
   ],
   "source": [
    "builder=StateGraph(getuserInfo)\n",
    "builder.add_node\n",
    "builder.add_node(\"user_intents\",getuserintent)\n",
    "builder.add_node(\"extractinformation\",extractInformation)\n",
    "builder.add_node(\"give_response\",give_response)\n",
    "builder.add_node(\"booking_node\",booking_node)\n",
    "builder.add_node(\"rag_node\",rag_node)\n",
    "\n",
    "\n",
    "builder.add_edge(START, \"user_intents\")\n",
    "builder.add_conditional_edges(\"user_intents\", userintents, [\"extractinformation\",\"booking_node\",\"rag_node\"])\n",
    "builder.add_conditional_edges(\"extractinformation\", should_continue, [\"give_response\", END])\n",
    "builder.add_edge( \"give_response\",END)\n",
    "builder.add_edge( \"booking_node\",END)\n",
    "builder.add_edge( \"rag_node\",END)\n",
    "\n",
    "memory=MemorySaver()\n",
    "graph=builder.compile(checkpointer=memory)\n",
    "display(Image(graph.get_graph(xray=1).draw_mermaid_png()))\n"
   ]
  },
  {
   "cell_type": "code",
   "execution_count": 447,
   "metadata": {},
   "outputs": [],
   "source": [
    "\n",
    "topic=\"\"\"What is machine learning by the way my name is ravi?\"\"\"\n",
    "thread = {\"configurable\": {\"thread_id\": \"1\"}}\n",
    "#Run the graph \n",
    "for event in graph.stream({\"input\":topic},thread,\n",
    "                          stream_mode=\"values\"):\n",
    "    \n",
    "    infos = event.get('Contactinfo', '')\n",
    "    if infos:\n",
    "       print(infos[\"name\"])\n",
    "       print(infos[\"phone\"])\n",
    "       print(infos[\"email\"])\n",
    "       print(event[\"messages\"])\n",
    "\n",
    "\n",
    "        "
   ]
  },
  {
   "cell_type": "code",
   "execution_count": 448,
   "metadata": {},
   "outputs": [],
   "source": [
    "thread = {\"configurable\": {\"thread_id\": \"1\"}}\n",
    "op=graph.invoke({\"input\":\"I want to book  appointment for monday\"},thread)"
   ]
  },
  {
   "cell_type": "code",
   "execution_count": 449,
   "metadata": {},
   "outputs": [
    {
     "data": {
      "text/plain": [
       "[HumanMessage(content='The provided text does not contain the answer to your question about machine learning.  It focuses on the Nepal Demographic and Health Survey (NDHS) and its methodology. \\n', additional_kwargs={}, response_metadata={}, id='c45cd77a-7eba-4bcc-9991-9a57832a9607'),\n",
       " HumanMessage(content='Your date is booked for 2025-01-22', additional_kwargs={}, response_metadata={}, id='943a851e-31b1-45ec-bba1-fcdc90fbec5d')]"
      ]
     },
     "execution_count": 449,
     "metadata": {},
     "output_type": "execute_result"
    }
   ],
   "source": [
    "op[\"messages\"]"
   ]
  },
  {
   "cell_type": "code",
   "execution_count": 450,
   "metadata": {},
   "outputs": [
    {
     "data": {
      "text/plain": [
       "'Your date is booked for 2025-01-22'"
      ]
     },
     "execution_count": 450,
     "metadata": {},
     "output_type": "execute_result"
    }
   ],
   "source": [
    "op[\"messages\"][-1].content"
   ]
  },
  {
   "cell_type": "code",
   "execution_count": 451,
   "metadata": {},
   "outputs": [
    {
     "data": {
      "text/plain": [
       "True"
      ]
     },
     "execution_count": 451,
     "metadata": {},
     "output_type": "execute_result"
    }
   ],
   "source": [
    "torch.cuda.is_available()"
   ]
  },
  {
   "cell_type": "code",
   "execution_count": 452,
   "metadata": {},
   "outputs": [
    {
     "name": "stdout",
     "output_type": "stream",
     "text": [
      "/bin/bash: line 1: nvcc: command not found\n"
     ]
    }
   ],
   "source": [
    "!nvcc --version"
   ]
  },
  {
   "cell_type": "code",
   "execution_count": 453,
   "metadata": {},
   "outputs": [
    {
     "data": {
      "text/plain": [
       "AIMessage(content=\"I do not have access to real-time information, including the current date. To get today's date, you can check a calendar or your device's clock.\\n\", additional_kwargs={}, response_metadata={'token_usage': {'completion_tokens': 38, 'prompt_tokens': 15, 'total_tokens': 53, 'completion_time': 0.069090909, 'prompt_time': 7.606e-05, 'queue_time': 0.020566169000000002, 'total_time': 0.069166969}, 'model_name': 'Gemma2-9b-It', 'system_fingerprint': 'fp_10c08bf97d', 'finish_reason': 'stop', 'logprobs': None}, id='run-cc824612-fbaf-46d9-a6c5-21d7f3cccdb3-0', usage_metadata={'input_tokens': 15, 'output_tokens': 38, 'total_tokens': 53})"
      ]
     },
     "execution_count": 453,
     "metadata": {},
     "output_type": "execute_result"
    }
   ],
   "source": [
    "llm.invoke(\"do you know todaydate?\")"
   ]
  },
  {
   "cell_type": "code",
   "execution_count": 454,
   "metadata": {},
   "outputs": [],
   "source": [
    "from datetime import datetime\n",
    "\n",
    "# Get today's date with the day of the week\n",
    "today_date= datetime.today().strftime('%Y-%m-%d (%A)')\n"
   ]
  },
  {
   "cell_type": "code",
   "execution_count": null,
   "metadata": {},
   "outputs": [],
   "source": []
  },
  {
   "cell_type": "code",
   "execution_count": 455,
   "metadata": {},
   "outputs": [
    {
     "data": {
      "text/plain": [
       "AIMessage(content=\"Thank you for providing the date! \\n\\nI'll keep that in mind as we chat.  \\n\\nIs there anything specific you'd like to do with this date information?  For example, do you want to:\\n\\n* Calculate the day of the week for a future date?\\n* See how many days are left until a specific event?\\n* Compare it to another date? \\n\\n\\nLet me know! 😊 \\n\", additional_kwargs={}, response_metadata={'token_usage': {'completion_tokens': 91, 'prompt_tokens': 27, 'total_tokens': 118, 'completion_time': 0.165454545, 'prompt_time': 0.000134019, 'queue_time': 0.020575970000000002, 'total_time': 0.165588564}, 'model_name': 'Gemma2-9b-It', 'system_fingerprint': 'fp_10c08bf97d', 'finish_reason': 'stop', 'logprobs': None}, id='run-4ccff3a3-c210-4ecc-81c9-535bb8a39a59-0', usage_metadata={'input_tokens': 27, 'output_tokens': 91, 'total_tokens': 118})"
      ]
     },
     "execution_count": 455,
     "metadata": {},
     "output_type": "execute_result"
    }
   ],
   "source": [
    "llm.invoke(f\"todays date is {today_date}\")"
   ]
  },
  {
   "cell_type": "code",
   "execution_count": 456,
   "metadata": {},
   "outputs": [],
   "source": [
    "question=\"i want to book for tomorrow\""
   ]
  },
  {
   "cell_type": "code",
   "execution_count": 457,
   "metadata": {},
   "outputs": [],
   "source": [
    "user_response_prompt=\"\"\"The user wants to book an appointment.. \n",
    "Your task is to:\n",
    "1. Parse this request and return ONLY a date in YYYY-MM-DD format\n",
    "2. Today date is {today_date}\n",
    "3. If the day has already passed this week, assume they mean next week\n",
    "4. Return ONLY the date, no other text\n",
    "\n",
    "The input user is this : {user_input}\n",
    "\"\"\""
   ]
  },
  {
   "cell_type": "code",
   "execution_count": null,
   "metadata": {},
   "outputs": [],
   "source": [
    "\n",
    "\n",
    "\n"
   ]
  },
  {
   "cell_type": "code",
   "execution_count": 458,
   "metadata": {},
   "outputs": [
    {
     "data": {
      "text/plain": [
       "{'booked_date': '2025-01-20',\n",
       " 'messages': ['Your date is booked for 2025-01-20']}"
      ]
     },
     "execution_count": 458,
     "metadata": {},
     "output_type": "execute_result"
    }
   ],
   "source": [
    "booking_node({\"input\":\"i want to book for friday\"})"
   ]
  },
  {
   "cell_type": "code",
   "execution_count": null,
   "metadata": {},
   "outputs": [],
   "source": []
  }
 ],
 "metadata": {
  "kernelspec": {
   "display_name": "study",
   "language": "python",
   "name": "python3"
  },
  "language_info": {
   "codemirror_mode": {
    "name": "ipython",
    "version": 3
   },
   "file_extension": ".py",
   "mimetype": "text/x-python",
   "name": "python",
   "nbconvert_exporter": "python",
   "pygments_lexer": "ipython3",
   "version": "3.10.16"
  }
 },
 "nbformat": 4,
 "nbformat_minor": 2
}
